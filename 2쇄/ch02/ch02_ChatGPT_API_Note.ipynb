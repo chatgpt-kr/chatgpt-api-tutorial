{
  "cells": [
    {
      "cell_type": "markdown",
      "metadata": {
        "id": "A13YVPL0vK3a"
      },
      "source": [
        "# OpenAI API 라이브러리 설치"
      ]
    },
    {
      "cell_type": "code",
      "execution_count": null,
      "metadata": {
        "colab": {
          "base_uri": "https://localhost:8080/"
        },
        "id": "wBYn7ofqvHYU",
        "outputId": "32dee24c-ea55-4085-b132-4870027cad17"
      },
      "outputs": [
        {
          "name": "stdout",
          "output_type": "stream",
          "text": [
            "Collecting openai\n",
            "  Downloading openai-0.27.8-py3-none-any.whl (73 kB)\n",
            "\u001b[?25l     \u001b[90m━━━━━━━━━━━━━━━━━━━━━━━━━━━━━━━━━━━━━━━━\u001b[0m \u001b[32m0.0/73.6 kB\u001b[0m \u001b[31m?\u001b[0m eta \u001b[36m-:--:--\u001b[0m\r\u001b[2K     \u001b[90m━━━━━━━━━━━━━━━━━━━━━━━━━━━━━━━━━━━━━━━━\u001b[0m \u001b[32m73.6/73.6 kB\u001b[0m \u001b[31m8.3 MB/s\u001b[0m eta \u001b[36m0:00:00\u001b[0m\n",
            "\u001b[?25hRequirement already satisfied: requests>=2.20 in /usr/local/lib/python3.10/dist-packages (from openai) (2.27.1)\n",
            "Requirement already satisfied: tqdm in /usr/local/lib/python3.10/dist-packages (from openai) (4.65.0)\n",
            "Requirement already satisfied: aiohttp in /usr/local/lib/python3.10/dist-packages (from openai) (3.8.4)\n",
            "Requirement already satisfied: urllib3<1.27,>=1.21.1 in /usr/local/lib/python3.10/dist-packages (from requests>=2.20->openai) (1.26.16)\n",
            "Requirement already satisfied: certifi>=2017.4.17 in /usr/local/lib/python3.10/dist-packages (from requests>=2.20->openai) (2023.5.7)\n",
            "Requirement already satisfied: charset-normalizer~=2.0.0 in /usr/local/lib/python3.10/dist-packages (from requests>=2.20->openai) (2.0.12)\n",
            "Requirement already satisfied: idna<4,>=2.5 in /usr/local/lib/python3.10/dist-packages (from requests>=2.20->openai) (3.4)\n",
            "Requirement already satisfied: attrs>=17.3.0 in /usr/local/lib/python3.10/dist-packages (from aiohttp->openai) (23.1.0)\n",
            "Requirement already satisfied: multidict<7.0,>=4.5 in /usr/local/lib/python3.10/dist-packages (from aiohttp->openai) (6.0.4)\n",
            "Requirement already satisfied: async-timeout<5.0,>=4.0.0a3 in /usr/local/lib/python3.10/dist-packages (from aiohttp->openai) (4.0.2)\n",
            "Requirement already satisfied: yarl<2.0,>=1.0 in /usr/local/lib/python3.10/dist-packages (from aiohttp->openai) (1.9.2)\n",
            "Requirement already satisfied: frozenlist>=1.1.1 in /usr/local/lib/python3.10/dist-packages (from aiohttp->openai) (1.3.3)\n",
            "Requirement already satisfied: aiosignal>=1.1.2 in /usr/local/lib/python3.10/dist-packages (from aiohttp->openai) (1.3.1)\n",
            "Installing collected packages: openai\n",
            "Successfully installed openai-0.27.8\n"
          ]
        }
      ],
      "source": [
        "!pip install openai"
      ]
    },
    {
      "cell_type": "markdown",
      "metadata": {
        "id": "-p2XB77nc6Gp"
      },
      "source": [
        "# 패키지 불러오기"
      ]
    },
    {
      "cell_type": "code",
      "execution_count": 1,
      "metadata": {
        "id": "qjDDc3wFvbZh"
      },
      "outputs": [],
      "source": [
        "import openai"
      ]
    },
    {
      "cell_type": "markdown",
      "metadata": {
        "id": "qvacos2Hc9Rt"
      },
      "source": [
        "# Clinet 생성 및 API 키 지정하기"
      ]
    },
    {
      "cell_type": "code",
      "execution_count": 2,
      "metadata": {
        "id": "XMK54sqdvnfk"
      },
      "outputs": [],
      "source": [
        "client = openai.OpenAI(api_key = \"api key 입력\")"
      ]
    },
    {
      "cell_type": "markdown",
      "metadata": {
        "id": "wla98X9AcqHp"
      },
      "source": [
        "# 기본 질문하기"
      ]
    },
    {
      "cell_type": "code",
      "execution_count": 3,
      "metadata": {
        "id": "0h_Jq4qtdGOi"
      },
      "outputs": [],
      "source": [
        "response = client.chat.completions.create(\n",
        "  model=\"gpt-3.5-turbo\",\n",
        "  messages=[{\"role\": \"user\", \"content\": \"Tell me how to make a pizza\"}])"
      ]
    },
    {
      "cell_type": "code",
      "execution_count": 4,
      "metadata": {
        "colab": {
          "base_uri": "https://localhost:8080/"
        },
        "id": "Y58ACbOpvrkT",
        "outputId": "34cffee6-03c8-4e34-b61c-e68e594f117d"
      },
      "outputs": [
        {
          "name": "stdout",
          "output_type": "stream",
          "text": [
            "ChatCompletion(id='chatcmpl-8Z9z8z6Ujb3cQuRK9rHlceVRoMmX0', choices=[Choice(finish_reason='stop', index=0, logprobs=None, message=ChatCompletionMessage(content=\"Making a pizza involves several steps, including preparing the dough, adding toppings, and baking. Here's a simplified guide on how to make a basic pizza:\\n\\nIngredients:\\n- Pizza dough (store-bought or homemade)\\n- Pizza sauce (store-bought or homemade)\\n- Cheese (mozzarella or your preferred type)\\n- Toppings such as pepperoni, vegetables, or any other desired ingredients\\n- Olive oil\\n- Salt and pepper\\n- Optional seasonings like oregano or basil\\n\\nInstructions:\\n\\n1. Preheat the oven to the temperature specified on your pizza dough package or recipe (usually around 450°F/230°C).\\n\\n2. Prepare your pizza dough according to the instructions on the package or follow a homemade recipe. If making your own dough, you'll need ingredients like flour, yeast, water, salt, and a bit of sugar. Knead the dough until smooth, then let it rest and rise for a specified amount of time (usually around 1-2 hours).\\n\\n3. Once the dough is ready, flour your working surface and place the dough on it. Using your hands or a rolling pin, shape the dough into your desired pizza shape (round, rectangular, etc.). Make sure the thickness is even throughout.\\n\\n4. Transfer the shaped dough to a pizza stone, baking tray, or preheated pizza stone if you have one. If using a baking tray, you might want to brush it with a bit of olive oil or sprinkle some cornmeal on it to prevent sticking.\\n\\n5. Spread a layer of pizza sauce evenly over the dough, leaving a small border around the edges for the crust. Use the back of a spoon to ensure even distribution.\\n\\n6. Sprinkle the desired amount of cheese over the sauce. Mozzarella is a common choice, but you can use any cheese you prefer or mix different types. Make sure to cover the sauce evenly.\\n\\n7. Add your desired toppings, such as pepperoni, vegetables, or meat. Ensure toppings are spread evenly and not overloaded, as this might make the pizza difficult to cook properly.\\n\\n8. Season the pizza with a pinch of salt, pepper, and any desired seasonings like oregano or basil. This step is optional but can enhance the flavor.\\n\\n9. Drizzle a small amount of olive oil over the pizza to add moisture and promote browning.\\n\\n10. Carefully transfer the pizza to the preheated oven and bake for the specified time on the dough package or recipe, typically around 10-15 minutes. The crust should turn golden brown, and the cheese should be melty and bubbly.\\n\\n11. Once cooked, remove the pizza from the oven using oven mitts or a pizza peel. Let it cool for a minute or two before cutting into slices.\\n\\n12. Serve and enjoy your delicious homemade pizza hot!\\n\\nRemember, you can experiment with different toppings, sauces, cheeses, or crust variations to suit your taste preferences. Enjoy your homemade pizza!\", role='assistant', function_call=None, tool_calls=None))], created=1703390554, model='gpt-3.5-turbo-0613', object='chat.completion', system_fingerprint=None, usage=CompletionUsage(completion_tokens=598, prompt_tokens=14, total_tokens=612))\n"
          ]
        }
      ],
      "source": [
        "print(response)"
      ]
    },
    {
      "cell_type": "markdown",
      "metadata": {
        "id": "CGuinbmluxjK"
      },
      "source": [
        "# 응답에서 답변만 추출하기"
      ]
    },
    {
      "cell_type": "code",
      "execution_count": 5,
      "metadata": {
        "colab": {
          "base_uri": "https://localhost:8080/"
        },
        "id": "-grSM4ONEwBh",
        "outputId": "9cf28a06-20b6-434b-b527-59d4b3d805af"
      },
      "outputs": [
        {
          "name": "stdout",
          "output_type": "stream",
          "text": [
            "Making a pizza involves several steps, including preparing the dough, adding toppings, and baking. Here's a simplified guide on how to make a basic pizza:\n",
            "\n",
            "Ingredients:\n",
            "- Pizza dough (store-bought or homemade)\n",
            "- Pizza sauce (store-bought or homemade)\n",
            "- Cheese (mozzarella or your preferred type)\n",
            "- Toppings such as pepperoni, vegetables, or any other desired ingredients\n",
            "- Olive oil\n",
            "- Salt and pepper\n",
            "- Optional seasonings like oregano or basil\n",
            "\n",
            "Instructions:\n",
            "\n",
            "1. Preheat the oven to the temperature specified on your pizza dough package or recipe (usually around 450°F/230°C).\n",
            "\n",
            "2. Prepare your pizza dough according to the instructions on the package or follow a homemade recipe. If making your own dough, you'll need ingredients like flour, yeast, water, salt, and a bit of sugar. Knead the dough until smooth, then let it rest and rise for a specified amount of time (usually around 1-2 hours).\n",
            "\n",
            "3. Once the dough is ready, flour your working surface and place the dough on it. Using your hands or a rolling pin, shape the dough into your desired pizza shape (round, rectangular, etc.). Make sure the thickness is even throughout.\n",
            "\n",
            "4. Transfer the shaped dough to a pizza stone, baking tray, or preheated pizza stone if you have one. If using a baking tray, you might want to brush it with a bit of olive oil or sprinkle some cornmeal on it to prevent sticking.\n",
            "\n",
            "5. Spread a layer of pizza sauce evenly over the dough, leaving a small border around the edges for the crust. Use the back of a spoon to ensure even distribution.\n",
            "\n",
            "6. Sprinkle the desired amount of cheese over the sauce. Mozzarella is a common choice, but you can use any cheese you prefer or mix different types. Make sure to cover the sauce evenly.\n",
            "\n",
            "7. Add your desired toppings, such as pepperoni, vegetables, or meat. Ensure toppings are spread evenly and not overloaded, as this might make the pizza difficult to cook properly.\n",
            "\n",
            "8. Season the pizza with a pinch of salt, pepper, and any desired seasonings like oregano or basil. This step is optional but can enhance the flavor.\n",
            "\n",
            "9. Drizzle a small amount of olive oil over the pizza to add moisture and promote browning.\n",
            "\n",
            "10. Carefully transfer the pizza to the preheated oven and bake for the specified time on the dough package or recipe, typically around 10-15 minutes. The crust should turn golden brown, and the cheese should be melty and bubbly.\n",
            "\n",
            "11. Once cooked, remove the pizza from the oven using oven mitts or a pizza peel. Let it cool for a minute or two before cutting into slices.\n",
            "\n",
            "12. Serve and enjoy your delicious homemade pizza hot!\n",
            "\n",
            "Remember, you can experiment with different toppings, sauces, cheeses, or crust variations to suit your taste preferences. Enjoy your homemade pizza!\n"
          ]
        }
      ],
      "source": [
        "print(response.choices[0].message.content)\n"
      ]
    },
    {
      "cell_type": "markdown",
      "metadata": {
        "id": "ntYJRnUD1kzs"
      },
      "source": [
        "# 소모 토큰, 비용 확인하기"
      ]
    },
    {
      "cell_type": "code",
      "execution_count": 6,
      "metadata": {
        "colab": {
          "base_uri": "https://localhost:8080/"
        },
        "id": "3a1pJ7IVct4X",
        "outputId": "41ddd83e-012f-4dd6-ab39-a60027c9ef9c"
      },
      "outputs": [
        {
          "name": "stdout",
          "output_type": "stream",
          "text": [
            "CompletionUsage(completion_tokens=598, prompt_tokens=14, total_tokens=612)\n"
          ]
        }
      ],
      "source": [
        "print(response.usage)"
      ]
    },
    {
      "cell_type": "code",
      "execution_count": 7,
      "metadata": {
        "colab": {
          "base_uri": "https://localhost:8080/"
        },
        "id": "bpGGR9ftsDKz",
        "outputId": "b99acca6-7c11-4619-95ae-2a146622dcbf"
      },
      "outputs": [
        {
          "data": {
            "text/plain": [
              "0.001217"
            ]
          },
          "execution_count": 7,
          "metadata": {},
          "output_type": "execute_result"
        }
      ],
      "source": [
        "total_bill = response.usage.prompt_tokens * 0.0015/1000 + response.usage.completion_tokens * 0.002/1000\n",
        "total_bill"
      ]
    },
    {
      "cell_type": "code",
      "execution_count": 8,
      "metadata": {
        "colab": {
          "base_uri": "https://localhost:8080/"
        },
        "id": "_vCiOZoGczjy",
        "outputId": "6b1774d8-cba7-42bf-9beb-0eb8d31b7719"
      },
      "outputs": [
        {
          "name": "stdout",
          "output_type": "stream",
          "text": [
            "총 발생 비용 0.001217 원\n"
          ]
        }
      ],
      "source": [
        "print(\"총 발생 비용 {} 원\".format(total_bill*1,323.43))"
      ]
    },
    {
      "cell_type": "markdown",
      "metadata": {
        "id": "NkXpHrV_j5na"
      },
      "source": [
        "# 역할 부여하기"
      ]
    },
    {
      "cell_type": "code",
      "execution_count": null,
      "metadata": {
        "colab": {
          "base_uri": "https://localhost:8080/"
        },
        "id": "PP2-xtTsj7Bg",
        "outputId": "08dea4de-b4d1-4c38-a9a3-eb2f34d56238"
      },
      "outputs": [
        {
          "name": "stdout",
          "output_type": "stream",
          "text": [
            "2020년 월드시리즈에서는 로스앤젤레스 다저스(Los Angeles Dodgers)가 우승했어요. 이번 시리즈에서는 탬파베이 레이즈(Tampa Bay Rays)와의 경기에서 4승 2패로 승리했어요.\n"
          ]
        }
      ],
      "source": [
        "response = client.chat.completions.create(\n",
        " model=\"gpt-3.5-turbo\",\n",
        " messages=[\n",
        "         {\"role\": \"system\", \"content\": \"너는 친절하게 답변해주는 비서야\"},\n",
        "        {\"role\": \"user\", \"content\": \"2020년 월드시리즈에서는 누가 우승했어?\"}\n",
        " ]\n",
        ")\n",
        "print(response.choices[0].message.content)"
      ]
    },
    {
      "cell_type": "code",
      "execution_count": null,
      "metadata": {
        "colab": {
          "base_uri": "https://localhost:8080/"
        },
        "id": "en5HeRyAoqnh",
        "outputId": "f6239b31-666f-4e8e-e93d-f49d57858a2d"
      },
      "outputs": [
        {
          "name": "stdout",
          "output_type": "stream",
          "text": [
            "2020년 월드시리즈에서는 로스앤젤레스 도져스가 우승했습니다.\n"
          ]
        }
      ],
      "source": [
        "response = client.chat.completions.create(\n",
        " model=\"gpt-3.5-turbo\",\n",
        " messages=[\n",
        " {\"role\": \"system\", \"content\": \"You must only answer users' questions in English. This must be honored. You must only answer in English.\"},\n",
        " {\"role\": \"user\", \"content\": \"2020년 월드시리즈에서는 누가 우승했어?\"}\n",
        " ]\n",
        ")\n",
        "print(response.choices[0].message.content)"
      ]
    },
    {
      "cell_type": "code",
      "execution_count": null,
      "metadata": {
        "colab": {
          "base_uri": "https://localhost:8080/"
        },
        "id": "qywoxcjhq9q3",
        "outputId": "7273d42f-39c0-4e11-b392-f0adb3c17a11"
      },
      "outputs": [
        {
          "name": "stdout",
          "output_type": "stream",
          "text": [
            "Sorry, I can't answer that.\n"
          ]
        }
      ],
      "source": [
        "response = client.chat.completions.create(\n",
        " model=\"gpt-3.5-turbo\",\n",
        " messages=[\n",
        " {\"role\": \"system\", \"content\": \"You're a chatbot that refuses to answer and says sorry when users ask questions.\"},\n",
        " {\"role\": \"user\", \"content\": \"2020년 월드시리즈에서는 누가 우승했어?\"}\n",
        " ]\n",
        ")\n",
        "print(response.choices[0].message.content)"
      ]
    },
    {
      "cell_type": "code",
      "execution_count": null,
      "metadata": {
        "colab": {
          "base_uri": "https://localhost:8080/"
        },
        "id": "fdy0z4GjkEmb",
        "outputId": "f4b99a2a-31f4-4505-b943-a992507304e2"
      },
      "outputs": [
        {
          "name": "stdout",
          "output_type": "stream",
          "text": [
            "Who won the World Series in 2020?\n"
          ]
        }
      ],
      "source": [
        "response = client.chat.completions.create(\n",
        " model=\"gpt-3.5-turbo\",\n",
        " messages=[\n",
        "  {\"role\": \"system\", \"content\": \"You are a translator that translates users' inputs. If the input is in Korean, it must be translated into English. This must be strictly adhered to.\"},\n",
        "  {\"role\": \"user\", \"content\": \"2020년 월드시리즈에서는 누가 우승했어?\"}\n",
        "  ]\n",
        " )\n",
        "print(response.choices[0].message.content)"
      ]
    },
    {
      "cell_type": "markdown",
      "metadata": {
        "id": "FmPlepA0kxbx"
      },
      "source": [
        "# 이전 대화를 포함하여 답변하기"
      ]
    },
    {
      "cell_type": "code",
      "execution_count": null,
      "metadata": {
        "colab": {
          "base_uri": "https://localhost:8080/"
        },
        "id": "-OzEdxsgkhJE",
        "outputId": "a57383af-353a-47ec-8663-5b67982778e7"
      },
      "outputs": [
        {
          "name": "stdout",
          "output_type": "stream",
          "text": [
            "2002년 월드컵에서 한국은 가장 큰 화제가 되었는데, 그 이유는 여러 가지입니다.\n",
            "\n",
            "첫째, 한국은 이전 월드컵에서 큰 성과를 거두지 못했던 약소한 축구국가로 알려져 있었습니다. 그러나 이번 대회에서 한국은 기대에 부응하여 예상치 못한 성과를 거두었습니다. 그들은 조별리그에서 포르투갈, 폴란드, 미국과 경기를 치루었고, 비록 폴란드와 미국과 비교적 안정적인 경기를 펼쳤지만, 포르투갈에게 무승부로 맞설 정도의 성과를 거두는 등 기대 이상의 경기력을 보여주었습니다.\n",
            "\n",
            "둘째, 한국은 16강에서 이탈리아와의 매우 치열한 경기에서 홀로 10명의 이탈리아 선수들을 상대로 골을 넣어냄으로써 극적인 역전승을 거둬 8강으로 진출하였습니다. 이러한 역전승은 전 세계 축구 팬들에게 큰 충격을 안겨주었고, 한국의 축구실력과 열정에 대한 관심을 높였습니다.\n",
            "\n",
            "셋째, 한국은 8강에서 스페인을 극적으로 이기고, 네덜란드와의 4강전에서도 맹렬한 경기를 펼쳤습니다. 이렇게 전 세계를 놀라게 한 훌륭한 팀워크와 축구 재능은 한국을 대회에서 가장 눈에 띄는 팀으로 만들었습니다.\n",
            "\n",
            "이처럼 한국은 예상치 못한 성과를 거두며 2002년 월드컵에서 큰 화제가 되었습니다. 이는 한국 축구의 역사에서도 가장 큰 성과 중 하나로 기억되고 있습니다.\n"
          ]
        }
      ],
      "source": [
        "response = client.chat.completions.create(\n",
        " model=\"gpt-3.5-turbo\",\n",
        " messages=[\n",
        " {\"role\": \"user\", \"content\": \"2002년 월드컵에서 가장 화제가 되었던 나라는 어디야?\"},\n",
        " {\"role\": \"assistant\", \"content\": \"바로 예상을 뚫고 4강 진출 신화를 일으킨 한국입니다.\"},\n",
        " {\"role\": \"user\", \"content\": \"그 나라가 화제가 되었던 이유를 자세하게 설명해줘\"}\n",
        " ]\n",
        ")\n",
        "print(response.choices[0].message.content)"
      ]
    },
    {
      "cell_type": "code",
      "execution_count": null,
      "metadata": {
        "id": "aASu40suw_Sm"
      },
      "outputs": [],
      "source": []
    }
  ],
  "metadata": {
    "colab": {
      "provenance": []
    },
    "kernelspec": {
      "display_name": "Python 3",
      "name": "python3"
    },
    "language_info": {
      "codemirror_mode": {
        "name": "ipython",
        "version": 3
      },
      "file_extension": ".py",
      "mimetype": "text/x-python",
      "name": "python",
      "nbconvert_exporter": "python",
      "pygments_lexer": "ipython3",
      "version": "3.11.0"
    }
  },
  "nbformat": 4,
  "nbformat_minor": 0
}
